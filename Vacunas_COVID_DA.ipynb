{
  "nbformat": 4,
  "nbformat_minor": 0,
  "metadata": {
    "colab": {
      "name": "Vacunas COVID DA.ipynb",
      "provenance": [],
      "collapsed_sections": [
        "JPQ60QwNiBQG",
        "2rX_aA3eiHgw",
        "B8uc_oq8sD0o",
        "U32wpapNakj9",
        "DUUEhTBOMwKH",
        "2MeKeNEgn2gC",
        "d0HYi02h5l-S",
        "MXLwnT8_iRCl",
        "l8LEcrKn2bSA",
        "rOYpQslrslkY"
      ],
      "toc_visible": true,
      "mount_file_id": "1J5UVMZhz22LBaaxmmHLMmq1QnSYg0L2g",
      "authorship_tag": "ABX9TyNh9iYD5LokVsEQHd+X/t/Y",
      "include_colab_link": true
    },
    "kernelspec": {
      "display_name": "Python 3",
      "name": "python3"
    }
  },
  "cells": [
    {
      "cell_type": "markdown",
      "metadata": {
        "id": "view-in-github",
        "colab_type": "text"
      },
      "source": [
        "<a href=\"https://colab.research.google.com/github/steciow/Colaborador/blob/main/Vacunas_COVID_DA.ipynb\" target=\"_parent\"><img src=\"https://colab.research.google.com/assets/colab-badge.svg\" alt=\"Open In Colab\"/></a>"
      ]
    },
    {
      "cell_type": "markdown",
      "metadata": {
        "id": "rpw433tt8hfD"
      },
      "source": [
        "# **PROCESAMIENTO DE BASE SOBRE VACUNACION EN ARGENTINA**\n",
        "**Vacunas en Argentina**\n",
        "\n",
        "Fuente:\n",
        "\n",
        "Vacunas contra COVID-19. Dosis Aplicadas en la República Argentina - Registro desagregado.\n",
        "Se va a leer la tabla directamente de ese repositorio y se elaborarán tablas resumen."
      ]
    },
    {
      "cell_type": "markdown",
      "metadata": {
        "id": "JPQ60QwNiBQG"
      },
      "source": [
        "## **Importar librerías**"
      ]
    },
    {
      "cell_type": "code",
      "metadata": {
        "id": "WmvWzpxcd7rk"
      },
      "source": [
        "# importamos de librerías que se utilizarán para trabajar las tablas y le otorgamos un alias\n",
        "import pandas as pd\n",
        "import numpy as np\n",
        "#import matplotlib.pyplot as plt\n",
        "#import plotly.express as px"
      ],
      "execution_count": null,
      "outputs": []
    },
    {
      "cell_type": "code",
      "metadata": {
        "id": "3uQ6AlnwNgJ3"
      },
      "source": [
        "#para ver mejor el contenido de las tablas, indico el máximo de filas a visualizar en 400...\n",
        "#pd.set_option('display.max_rows',800)"
      ],
      "execution_count": null,
      "outputs": []
    },
    {
      "cell_type": "markdown",
      "metadata": {
        "id": "2rX_aA3eiHgw"
      },
      "source": [
        "## **Levantar bases**"
      ]
    },
    {
      "cell_type": "markdown",
      "metadata": {
        "id": "LASJ0_PZA7mf"
      },
      "source": [
        "###**Base de datos vacunación**"
      ]
    },
    {
      "cell_type": "code",
      "metadata": {
        "id": "vEYAiBMEA6yh"
      },
      "source": [
        "#levantar desde enlace web\n",
        "url='https://sisa.msal.gov.ar/datos/descargas/covid-19/files/datos_nomivac_covid19.csv'\n",
        "dfvacc1= pd.read_csv(url)"
      ],
      "execution_count": null,
      "outputs": []
    },
    {
      "cell_type": "markdown",
      "metadata": {
        "id": "5MExPrmUYiCG"
      },
      "source": [
        "### **Bases auxiliares (clasificación y descripciones de distritos)**"
      ]
    },
    {
      "cell_type": "code",
      "metadata": {
        "id": "M882TxSPYpfE"
      },
      "source": [
        "#levantar desde enlace web\n",
        "url = 'https://raw.githubusercontent.com/steciow/municipios_regiones_PBA/main/info_mun.csv'\n",
        "dfaux = pd.read_csv(url)"
      ],
      "execution_count": null,
      "outputs": []
    },
    {
      "cell_type": "code",
      "metadata": {
        "id": "thwtCmRrrryJ"
      },
      "source": [
        "url='https://raw.githubusercontent.com/steciow/jurisdiccionesARG/main/info_jur.csv'\n",
        "dfaux2=pd.read_csv(url)"
      ],
      "execution_count": null,
      "outputs": []
    },
    {
      "cell_type": "markdown",
      "metadata": {
        "id": "B8uc_oq8sD0o"
      },
      "source": [
        "## **Explorando las bases**"
      ]
    },
    {
      "cell_type": "code",
      "metadata": {
        "id": "ox3LgDVqVmVm",
        "colab": {
          "base_uri": "https://localhost:8080/"
        },
        "outputId": "bb8ce4df-2bd2-4581-b20f-92792ba82914"
      },
      "source": [
        "#para verificar el tamaño del listado de municipios con la agrupación en regiones\n",
        "dfaux.shape"
      ],
      "execution_count": null,
      "outputs": [
        {
          "output_type": "execute_result",
          "data": {
            "text/plain": [
              "(135, 19)"
            ]
          },
          "metadata": {
            "tags": []
          },
          "execution_count": 6
        }
      ]
    },
    {
      "cell_type": "code",
      "metadata": {
        "id": "8EYIEMUlr4_0",
        "colab": {
          "base_uri": "https://localhost:8080/"
        },
        "outputId": "400edff5-f918-4a27-a5f7-fd1e201210eb"
      },
      "source": [
        "dfaux2.shape"
      ],
      "execution_count": null,
      "outputs": [
        {
          "output_type": "execute_result",
          "data": {
            "text/plain": [
              "(24, 16)"
            ]
          },
          "metadata": {
            "tags": []
          },
          "execution_count": 7
        }
      ]
    },
    {
      "cell_type": "code",
      "metadata": {
        "id": "XBmgpsLhc0a5",
        "colab": {
          "base_uri": "https://localhost:8080/"
        },
        "outputId": "c3046006-9b56-451b-a162-4f51d5f2dc4d"
      },
      "source": [
        "dfaux.head(135)"
      ],
      "execution_count": null,
      "outputs": [
        {
          "output_type": "execute_result",
          "data": {
            "text/html": [
              "<div>\n",
              "<style scoped>\n",
              "    .dataframe tbody tr th:only-of-type {\n",
              "        vertical-align: middle;\n",
              "    }\n",
              "\n",
              "    .dataframe tbody tr th {\n",
              "        vertical-align: top;\n",
              "    }\n",
              "\n",
              "    .dataframe thead th {\n",
              "        text-align: right;\n",
              "    }\n",
              "</style>\n",
              "<table border=\"1\" class=\"dataframe\">\n",
              "  <thead>\n",
              "    <tr style=\"text-align: right;\">\n",
              "      <th></th>\n",
              "      <th>id_Mun</th>\n",
              "      <th>id_Prov_Mun</th>\n",
              "      <th>Municipio_PBA</th>\n",
              "      <th>Región</th>\n",
              "      <th>AMBA</th>\n",
              "      <th>Apertura_PBA_UNGS</th>\n",
              "      <th>Apertura_PBA_UNDAV</th>\n",
              "      <th>lat,long</th>\n",
              "      <th>pob_mun_2015</th>\n",
              "      <th>pob_mun_2016</th>\n",
              "      <th>pob_mun_2017</th>\n",
              "      <th>pob_mun_2018</th>\n",
              "      <th>pob_mun_2019</th>\n",
              "      <th>pob_mun_2020</th>\n",
              "      <th>pob_mun_2021</th>\n",
              "      <th>pob_mun_2022</th>\n",
              "      <th>pob_mun_2023</th>\n",
              "      <th>pob_mun_2024</th>\n",
              "      <th>pob_mun_2025</th>\n",
              "    </tr>\n",
              "  </thead>\n",
              "  <tbody>\n",
              "    <tr>\n",
              "      <th>0</th>\n",
              "      <td>7</td>\n",
              "      <td>6-7</td>\n",
              "      <td>Adolfo Alsina</td>\n",
              "      <td>Región I</td>\n",
              "      <td>Interior PBA</td>\n",
              "      <td>Interior PBA</td>\n",
              "      <td>Interior PBA</td>\n",
              "      <td>-37.179483264541,-62.7599903900444</td>\n",
              "      <td>17356</td>\n",
              "      <td>17382</td>\n",
              "      <td>17407</td>\n",
              "      <td>17433</td>\n",
              "      <td>17458</td>\n",
              "      <td>17483</td>\n",
              "      <td>17507</td>\n",
              "      <td>17532</td>\n",
              "      <td>17556</td>\n",
              "      <td>17580</td>\n",
              "      <td>17603</td>\n",
              "    </tr>\n",
              "    <tr>\n",
              "      <th>1</th>\n",
              "      <td>14</td>\n",
              "      <td>6-14</td>\n",
              "      <td>Adolfo Gonzáles Chaves</td>\n",
              "      <td>Región I</td>\n",
              "      <td>Interior PBA</td>\n",
              "      <td>Interior PBA</td>\n",
              "      <td>Interior PBA</td>\n",
              "      <td>-38.0323707296254,-60.0993919272956</td>\n",
              "      <td>12040</td>\n",
              "      <td>12016</td>\n",
              "      <td>11992</td>\n",
              "      <td>11968</td>\n",
              "      <td>11944</td>\n",
              "      <td>11922</td>\n",
              "      <td>11899</td>\n",
              "      <td>11877</td>\n",
              "      <td>11855</td>\n",
              "      <td>11832</td>\n",
              "      <td>11811</td>\n",
              "    </tr>\n",
              "    <tr>\n",
              "      <th>2</th>\n",
              "      <td>56</td>\n",
              "      <td>6-56</td>\n",
              "      <td>Bahía Blanca</td>\n",
              "      <td>Región I</td>\n",
              "      <td>Interior PBA</td>\n",
              "      <td>Interior PBA</td>\n",
              "      <td>Interior PBA</td>\n",
              "      <td>-38.7227702774263,-62.2727419997435</td>\n",
              "      <td>307250</td>\n",
              "      <td>307836</td>\n",
              "      <td>308413</td>\n",
              "      <td>308982</td>\n",
              "      <td>309544</td>\n",
              "      <td>310095</td>\n",
              "      <td>310639</td>\n",
              "      <td>311175</td>\n",
              "      <td>311704</td>\n",
              "      <td>312224</td>\n",
              "      <td>312738</td>\n",
              "    </tr>\n",
              "    <tr>\n",
              "      <th>3</th>\n",
              "      <td>182</td>\n",
              "      <td>6-182</td>\n",
              "      <td>Coronel de Marina L. Rosales</td>\n",
              "      <td>Región I</td>\n",
              "      <td>Interior PBA</td>\n",
              "      <td>Interior PBA</td>\n",
              "      <td>Interior PBA</td>\n",
              "      <td>-38.8781733536173,-62.0794804610544</td>\n",
              "      <td>63124</td>\n",
              "      <td>63203</td>\n",
              "      <td>63281</td>\n",
              "      <td>63358</td>\n",
              "      <td>63433</td>\n",
              "      <td>63508</td>\n",
              "      <td>63581</td>\n",
              "      <td>63654</td>\n",
              "      <td>63725</td>\n",
              "      <td>63795</td>\n",
              "      <td>63864</td>\n",
              "    </tr>\n",
              "    <tr>\n",
              "      <th>4</th>\n",
              "      <td>189</td>\n",
              "      <td>6-189</td>\n",
              "      <td>Coronel Dorrego</td>\n",
              "      <td>Región I</td>\n",
              "      <td>Interior PBA</td>\n",
              "      <td>Interior PBA</td>\n",
              "      <td>Interior PBA</td>\n",
              "      <td>-38.7187998749142,-61.2883602471277</td>\n",
              "      <td>15589</td>\n",
              "      <td>15511</td>\n",
              "      <td>15435</td>\n",
              "      <td>15359</td>\n",
              "      <td>15285</td>\n",
              "      <td>15212</td>\n",
              "      <td>15141</td>\n",
              "      <td>15070</td>\n",
              "      <td>15000</td>\n",
              "      <td>14931</td>\n",
              "      <td>14864</td>\n",
              "    </tr>\n",
              "    <tr>\n",
              "      <th>...</th>\n",
              "      <td>...</td>\n",
              "      <td>...</td>\n",
              "      <td>...</td>\n",
              "      <td>...</td>\n",
              "      <td>...</td>\n",
              "      <td>...</td>\n",
              "      <td>...</td>\n",
              "      <td>...</td>\n",
              "      <td>...</td>\n",
              "      <td>...</td>\n",
              "      <td>...</td>\n",
              "      <td>...</td>\n",
              "      <td>...</td>\n",
              "      <td>...</td>\n",
              "      <td>...</td>\n",
              "      <td>...</td>\n",
              "      <td>...</td>\n",
              "      <td>...</td>\n",
              "      <td>...</td>\n",
              "    </tr>\n",
              "    <tr>\n",
              "      <th>130</th>\n",
              "      <td>648</td>\n",
              "      <td>6-648</td>\n",
              "      <td>Presidente Perón</td>\n",
              "      <td>Región XI</td>\n",
              "      <td>AMBA</td>\n",
              "      <td>Tercer cordón</td>\n",
              "      <td>Tercer cordón</td>\n",
              "      <td>-34.9179865320528,-58.3821570397156</td>\n",
              "      <td>93960</td>\n",
              "      <td>96420</td>\n",
              "      <td>98847</td>\n",
              "      <td>101239</td>\n",
              "      <td>103597</td>\n",
              "      <td>105918</td>\n",
              "      <td>108203</td>\n",
              "      <td>110457</td>\n",
              "      <td>112680</td>\n",
              "      <td>114868</td>\n",
              "      <td>117024</td>\n",
              "    </tr>\n",
              "    <tr>\n",
              "      <th>131</th>\n",
              "      <td>655</td>\n",
              "      <td>6-655</td>\n",
              "      <td>Punta Indio</td>\n",
              "      <td>Región XI</td>\n",
              "      <td>Interior PBA</td>\n",
              "      <td>Interior PBA</td>\n",
              "      <td>Interior PBA</td>\n",
              "      <td>-35.3874096777144,-57.338171581753</td>\n",
              "      <td>10282</td>\n",
              "      <td>10343</td>\n",
              "      <td>10404</td>\n",
              "      <td>10463</td>\n",
              "      <td>10521</td>\n",
              "      <td>10579</td>\n",
              "      <td>10635</td>\n",
              "      <td>10692</td>\n",
              "      <td>10747</td>\n",
              "      <td>10802</td>\n",
              "      <td>10855</td>\n",
              "    </tr>\n",
              "    <tr>\n",
              "      <th>132</th>\n",
              "      <td>778</td>\n",
              "      <td>6-778</td>\n",
              "      <td>San Vicente</td>\n",
              "      <td>Región XI</td>\n",
              "      <td>AMBA</td>\n",
              "      <td>Tercer cordón</td>\n",
              "      <td>Tercer cordón</td>\n",
              "      <td>-35.0259018141174,-58.4224036114375</td>\n",
              "      <td>68634</td>\n",
              "      <td>70388</td>\n",
              "      <td>72118</td>\n",
              "      <td>73825</td>\n",
              "      <td>75506</td>\n",
              "      <td>77161</td>\n",
              "      <td>78791</td>\n",
              "      <td>80398</td>\n",
              "      <td>81983</td>\n",
              "      <td>83544</td>\n",
              "      <td>85082</td>\n",
              "    </tr>\n",
              "    <tr>\n",
              "      <th>133</th>\n",
              "      <td>812</td>\n",
              "      <td>6-812</td>\n",
              "      <td>Tordillo</td>\n",
              "      <td>Región XI</td>\n",
              "      <td>Interior PBA</td>\n",
              "      <td>Interior PBA</td>\n",
              "      <td>Interior PBA</td>\n",
              "      <td>-36.5208605076063,-57.3249387125515</td>\n",
              "      <td>1794</td>\n",
              "      <td>1796</td>\n",
              "      <td>1799</td>\n",
              "      <td>1801</td>\n",
              "      <td>1804</td>\n",
              "      <td>1807</td>\n",
              "      <td>1809</td>\n",
              "      <td>1812</td>\n",
              "      <td>1814</td>\n",
              "      <td>1816</td>\n",
              "      <td>1818</td>\n",
              "    </tr>\n",
              "    <tr>\n",
              "      <th>134</th>\n",
              "      <td>427</td>\n",
              "      <td>6-427</td>\n",
              "      <td>La Matanza</td>\n",
              "      <td>Región XII</td>\n",
              "      <td>AMBA</td>\n",
              "      <td>La Matanza</td>\n",
              "      <td>La Matanza</td>\n",
              "      <td>-34.6811417569864,-58.5637386018549</td>\n",
              "      <td>2037428</td>\n",
              "      <td>2087359</td>\n",
              "      <td>2136695</td>\n",
              "      <td>2185597</td>\n",
              "      <td>2233860</td>\n",
              "      <td>2281194</td>\n",
              "      <td>2327874</td>\n",
              "      <td>2374149</td>\n",
              "      <td>2419872</td>\n",
              "      <td>2464843</td>\n",
              "      <td>2509547</td>\n",
              "    </tr>\n",
              "  </tbody>\n",
              "</table>\n",
              "<p>135 rows × 19 columns</p>\n",
              "</div>"
            ],
            "text/plain": [
              "     id_Mun id_Prov_Mun  ... pob_mun_2024 pob_mun_2025\n",
              "0         7         6-7  ...        17580        17603\n",
              "1        14        6-14  ...        11832        11811\n",
              "2        56        6-56  ...       312224       312738\n",
              "3       182       6-182  ...        63795        63864\n",
              "4       189       6-189  ...        14931        14864\n",
              "..      ...         ...  ...          ...          ...\n",
              "130     648       6-648  ...       114868       117024\n",
              "131     655       6-655  ...        10802        10855\n",
              "132     778       6-778  ...        83544        85082\n",
              "133     812       6-812  ...         1816         1818\n",
              "134     427       6-427  ...      2464843      2509547\n",
              "\n",
              "[135 rows x 19 columns]"
            ]
          },
          "metadata": {
            "tags": []
          },
          "execution_count": 8
        }
      ]
    },
    {
      "cell_type": "code",
      "metadata": {
        "id": "lMWfQJDEsCAl",
        "colab": {
          "base_uri": "https://localhost:8080/"
        },
        "outputId": "0700add5-a18c-4f59-ec50-eaf88b3dbc6e"
      },
      "source": [
        "dfaux2.head(5)"
      ],
      "execution_count": null,
      "outputs": [
        {
          "output_type": "execute_result",
          "data": {
            "text/html": [
              "<div>\n",
              "<style scoped>\n",
              "    .dataframe tbody tr th:only-of-type {\n",
              "        vertical-align: middle;\n",
              "    }\n",
              "\n",
              "    .dataframe tbody tr th {\n",
              "        vertical-align: top;\n",
              "    }\n",
              "\n",
              "    .dataframe thead th {\n",
              "        text-align: right;\n",
              "    }\n",
              "</style>\n",
              "<table border=\"1\" class=\"dataframe\">\n",
              "  <thead>\n",
              "    <tr style=\"text-align: right;\">\n",
              "      <th></th>\n",
              "      <th>cod_jur</th>\n",
              "      <th>Jurisdiccion</th>\n",
              "      <th>Cod ISO 3166 alpha 2</th>\n",
              "      <th>Capital</th>\n",
              "      <th>Gobernador</th>\n",
              "      <th>pob_j_2015</th>\n",
              "      <th>pob_j_2016</th>\n",
              "      <th>pob_j_2017</th>\n",
              "      <th>pob_j_2018</th>\n",
              "      <th>pob_j_2019</th>\n",
              "      <th>pob_j_2020</th>\n",
              "      <th>pob_j_2021</th>\n",
              "      <th>pob_j_2022</th>\n",
              "      <th>pob_j_2023</th>\n",
              "      <th>pob_j_2024</th>\n",
              "      <th>pob_j_2025</th>\n",
              "    </tr>\n",
              "  </thead>\n",
              "  <tbody>\n",
              "    <tr>\n",
              "      <th>0</th>\n",
              "      <td>2</td>\n",
              "      <td>Ciudad Autónoma de Buenos Aires</td>\n",
              "      <td>AR-C</td>\n",
              "      <td>NaN</td>\n",
              "      <td>Horacio Rodríguez Larreta</td>\n",
              "      <td>3054267</td>\n",
              "      <td>3059122</td>\n",
              "      <td>3063728</td>\n",
              "      <td>3068043</td>\n",
              "      <td>3072029</td>\n",
              "      <td>3075646</td>\n",
              "      <td>3078836</td>\n",
              "      <td>3081550</td>\n",
              "      <td>3083770</td>\n",
              "      <td>3085483</td>\n",
              "      <td>3086680</td>\n",
              "    </tr>\n",
              "    <tr>\n",
              "      <th>1</th>\n",
              "      <td>6</td>\n",
              "      <td>Buenos Aires</td>\n",
              "      <td>AR-B</td>\n",
              "      <td>La Plata</td>\n",
              "      <td>Axel Kicillof</td>\n",
              "      <td>16659931</td>\n",
              "      <td>16841135</td>\n",
              "      <td>17020012</td>\n",
              "      <td>17196396</td>\n",
              "      <td>17370144</td>\n",
              "      <td>17541141</td>\n",
              "      <td>17709598</td>\n",
              "      <td>17875743</td>\n",
              "      <td>18039509</td>\n",
              "      <td>18200851</td>\n",
              "      <td>18359753</td>\n",
              "    </tr>\n",
              "    <tr>\n",
              "      <th>2</th>\n",
              "      <td>10</td>\n",
              "      <td>Catamarca</td>\n",
              "      <td>AR-K</td>\n",
              "      <td>San Fernando del Valle de Catamarca</td>\n",
              "      <td>Raúl Jalil</td>\n",
              "      <td>396895</td>\n",
              "      <td>400678</td>\n",
              "      <td>404433</td>\n",
              "      <td>408152</td>\n",
              "      <td>411824</td>\n",
              "      <td>415438</td>\n",
              "      <td>418991</td>\n",
              "      <td>422476</td>\n",
              "      <td>425885</td>\n",
              "      <td>429208</td>\n",
              "      <td>432438</td>\n",
              "    </tr>\n",
              "    <tr>\n",
              "      <th>3</th>\n",
              "      <td>14</td>\n",
              "      <td>Córdoba</td>\n",
              "      <td>AR-X</td>\n",
              "      <td>Córdoba</td>\n",
              "      <td>Juan Schiaretti</td>\n",
              "      <td>3567654</td>\n",
              "      <td>3606540</td>\n",
              "      <td>3645321</td>\n",
              "      <td>3683937</td>\n",
              "      <td>3722332</td>\n",
              "      <td>3760450</td>\n",
              "      <td>3798261</td>\n",
              "      <td>3835738</td>\n",
              "      <td>3872830</td>\n",
              "      <td>3909489</td>\n",
              "      <td>3945677</td>\n",
              "    </tr>\n",
              "    <tr>\n",
              "      <th>4</th>\n",
              "      <td>18</td>\n",
              "      <td>Corrientes</td>\n",
              "      <td>AR-W</td>\n",
              "      <td>Corrientes</td>\n",
              "      <td>Gustavo Valdés</td>\n",
              "      <td>1070283</td>\n",
              "      <td>1080655</td>\n",
              "      <td>1090938</td>\n",
              "      <td>1101084</td>\n",
              "      <td>1111052</td>\n",
              "      <td>1120801</td>\n",
              "      <td>1130320</td>\n",
              "      <td>1139604</td>\n",
              "      <td>1148631</td>\n",
              "      <td>1157386</td>\n",
              "      <td>1165860</td>\n",
              "    </tr>\n",
              "  </tbody>\n",
              "</table>\n",
              "</div>"
            ],
            "text/plain": [
              "   cod_jur                     Jurisdiccion  ... pob_j_2024 pob_j_2025\n",
              "0        2  Ciudad Autónoma de Buenos Aires  ...    3085483    3086680\n",
              "1        6                     Buenos Aires  ...   18200851   18359753\n",
              "2       10                        Catamarca  ...     429208     432438\n",
              "3       14                          Córdoba  ...    3909489    3945677\n",
              "4       18                       Corrientes  ...    1157386    1165860\n",
              "\n",
              "[5 rows x 16 columns]"
            ]
          },
          "metadata": {
            "tags": []
          },
          "execution_count": 9
        }
      ]
    },
    {
      "cell_type": "code",
      "metadata": {
        "id": "9ys1QyPQ8wkE",
        "colab": {
          "base_uri": "https://localhost:8080/"
        },
        "outputId": "4f66c167-ff54-4d07-a8d2-02d5a927b3af"
      },
      "source": [
        "dfvacc1.head(3)"
      ],
      "execution_count": null,
      "outputs": [
        {
          "output_type": "execute_result",
          "data": {
            "text/html": [
              "<div>\n",
              "<style scoped>\n",
              "    .dataframe tbody tr th:only-of-type {\n",
              "        vertical-align: middle;\n",
              "    }\n",
              "\n",
              "    .dataframe tbody tr th {\n",
              "        vertical-align: top;\n",
              "    }\n",
              "\n",
              "    .dataframe thead th {\n",
              "        text-align: right;\n",
              "    }\n",
              "</style>\n",
              "<table border=\"1\" class=\"dataframe\">\n",
              "  <thead>\n",
              "    <tr style=\"text-align: right;\">\n",
              "      <th></th>\n",
              "      <th>sexo</th>\n",
              "      <th>grupo_etario</th>\n",
              "      <th>jurisdiccion_residencia</th>\n",
              "      <th>jurisdiccion_residencia_id</th>\n",
              "      <th>depto_residencia</th>\n",
              "      <th>depto_residencia_id</th>\n",
              "      <th>jurisdiccion_aplicacion</th>\n",
              "      <th>jurisdiccion_aplicacion_id</th>\n",
              "      <th>depto_aplicacion</th>\n",
              "      <th>depto_aplicacion_id</th>\n",
              "      <th>fecha_aplicacion</th>\n",
              "      <th>vacuna</th>\n",
              "      <th>condicion_aplicacion</th>\n",
              "      <th>orden_dosis</th>\n",
              "      <th>lote_vacuna</th>\n",
              "    </tr>\n",
              "  </thead>\n",
              "  <tbody>\n",
              "    <tr>\n",
              "      <th>0</th>\n",
              "      <td>F</td>\n",
              "      <td>40-49</td>\n",
              "      <td>Buenos Aires</td>\n",
              "      <td>6</td>\n",
              "      <td>Tandil</td>\n",
              "      <td>791</td>\n",
              "      <td>Buenos Aires</td>\n",
              "      <td>6</td>\n",
              "      <td>Tandil</td>\n",
              "      <td>791</td>\n",
              "      <td>2021-03-05</td>\n",
              "      <td>Sinopharm</td>\n",
              "      <td>Estratégico</td>\n",
              "      <td>1</td>\n",
              "      <td>2021010036</td>\n",
              "    </tr>\n",
              "    <tr>\n",
              "      <th>1</th>\n",
              "      <td>M</td>\n",
              "      <td>50-59</td>\n",
              "      <td>Buenos Aires</td>\n",
              "      <td>6</td>\n",
              "      <td>General Pueyrredón</td>\n",
              "      <td>357</td>\n",
              "      <td>Buenos Aires</td>\n",
              "      <td>6</td>\n",
              "      <td>General Pueyrredón</td>\n",
              "      <td>357</td>\n",
              "      <td>2021-04-05</td>\n",
              "      <td>Sputnik</td>\n",
              "      <td>Estratégico</td>\n",
              "      <td>1</td>\n",
              "      <td>I-220321</td>\n",
              "    </tr>\n",
              "    <tr>\n",
              "      <th>2</th>\n",
              "      <td>M</td>\n",
              "      <td>30-39</td>\n",
              "      <td>Entre Ríos</td>\n",
              "      <td>30</td>\n",
              "      <td>La Paz</td>\n",
              "      <td>70</td>\n",
              "      <td>Entre Ríos</td>\n",
              "      <td>30</td>\n",
              "      <td>La Paz</td>\n",
              "      <td>70</td>\n",
              "      <td>2021-01-12</td>\n",
              "      <td>Sputnik</td>\n",
              "      <td>Salud</td>\n",
              "      <td>1</td>\n",
              "      <td>486081120R</td>\n",
              "    </tr>\n",
              "  </tbody>\n",
              "</table>\n",
              "</div>"
            ],
            "text/plain": [
              "  sexo grupo_etario  ... orden_dosis  lote_vacuna\n",
              "0    F        40-49  ...           1   2021010036\n",
              "1    M        50-59  ...           1     I-220321\n",
              "2    M        30-39  ...           1   486081120R\n",
              "\n",
              "[3 rows x 15 columns]"
            ]
          },
          "metadata": {
            "tags": []
          },
          "execution_count": 10
        }
      ]
    },
    {
      "cell_type": "code",
      "metadata": {
        "colab": {
          "base_uri": "https://localhost:8080/"
        },
        "id": "j9c4vXDEsfZ1",
        "outputId": "32eb0402-70eb-4ed8-f9e0-ed4964ffe441"
      },
      "source": [
        "dfvacc1.shape"
      ],
      "execution_count": null,
      "outputs": [
        {
          "output_type": "execute_result",
          "data": {
            "text/plain": [
              "(4771214, 15)"
            ]
          },
          "metadata": {
            "tags": []
          },
          "execution_count": 11
        }
      ]
    },
    {
      "cell_type": "code",
      "metadata": {
        "colab": {
          "base_uri": "https://localhost:8080/"
        },
        "id": "GE1xyMQmQhP1",
        "outputId": "ffda2216-38c5-4139-a089-7d1c3b622ada"
      },
      "source": [
        "dfvacc1.info()"
      ],
      "execution_count": null,
      "outputs": [
        {
          "output_type": "stream",
          "text": [
            "<class 'pandas.core.frame.DataFrame'>\n",
            "RangeIndex: 4771214 entries, 0 to 4771213\n",
            "Data columns (total 15 columns):\n",
            " #   Column                      Dtype \n",
            "---  ------                      ----- \n",
            " 0   sexo                        object\n",
            " 1   grupo_etario                object\n",
            " 2   jurisdiccion_residencia     object\n",
            " 3   jurisdiccion_residencia_id  int64 \n",
            " 4   depto_residencia            object\n",
            " 5   depto_residencia_id         int64 \n",
            " 6   jurisdiccion_aplicacion     object\n",
            " 7   jurisdiccion_aplicacion_id  int64 \n",
            " 8   depto_aplicacion            object\n",
            " 9   depto_aplicacion_id         int64 \n",
            " 10  fecha_aplicacion            object\n",
            " 11  vacuna                      object\n",
            " 12  condicion_aplicacion        object\n",
            " 13  orden_dosis                 int64 \n",
            " 14  lote_vacuna                 object\n",
            "dtypes: int64(5), object(10)\n",
            "memory usage: 546.0+ MB\n"
          ],
          "name": "stdout"
        }
      ]
    },
    {
      "cell_type": "markdown",
      "metadata": {
        "id": "VOE7fW43fZLi"
      },
      "source": [
        "## **Elaboración de tablas**"
      ]
    },
    {
      "cell_type": "markdown",
      "metadata": {
        "id": "bPMBwY6T6-2H"
      },
      "source": [
        "###Eliminación de variables que no se usarán"
      ]
    },
    {
      "cell_type": "code",
      "metadata": {
        "id": "MNtTztGi5mt6"
      },
      "source": [
        "#soltar variables que no se usarán de la base con información de los municipios\n",
        "dfaux.drop(columns=['id_Mun','pob_mun_2015','pob_mun_2016','pob_mun_2017','pob_mun_2018','pob_mun_2019','pob_mun_2022','pob_mun_2023','pob_mun_2024','pob_mun_2025'],axis=1,inplace=True)"
      ],
      "execution_count": null,
      "outputs": []
    },
    {
      "cell_type": "code",
      "metadata": {
        "id": "iBL_gyM25dQl"
      },
      "source": [
        "#soltar variables que no se usarán de la base con información de las provincias\n",
        "dfaux2.drop(columns=['Gobernador','pob_j_2015','pob_j_2016','pob_j_2017','pob_j_2018','pob_j_2019','pob_j_2022','pob_j_2023','pob_j_2024','pob_j_2025'],axis=1,inplace=True)"
      ],
      "execution_count": null,
      "outputs": []
    },
    {
      "cell_type": "markdown",
      "metadata": {
        "id": "U32wpapNakj9"
      },
      "source": [
        "### Agrupamiento y agregado de categorías en municipios"
      ]
    },
    {
      "cell_type": "code",
      "metadata": {
        "id": "JAofzJ_h_WWH"
      },
      "source": [
        "#para homogeneizar el id de cada jurisdicción y poder vincular las tablas\n",
        "dfvacc1.rename({'jurisdiccion_aplicacion_id':'cod_jur'},axis=1,inplace=True)\n",
        "dfvacc1.rename({'depto_aplicacion_id':'id_Mun'},axis=1,inplace=True)\n",
        "#para convertir la variable en una de texto. \n",
        "dfvacc1['cod_jur']=dfvacc1['cod_jur'].astype(str) \n",
        "dfvacc1['id_Mun']=dfvacc1['id_Mun'].astype(str) \n",
        "#genero un cod(concatenado PBA y Mun)= cod_provincia + cod_municipio\n",
        "dfvacc1['id_Prov_Mun']=dfvacc1['cod_jur']+'-'+dfvacc1['id_Mun']"
      ],
      "execution_count": null,
      "outputs": []
    },
    {
      "cell_type": "code",
      "metadata": {
        "id": "ygs48_I4oYnw"
      },
      "source": [
        "#renombrar etiquetas\n",
        "dfvacc1['orden_dosis'].replace({1:'Primera dosis', \n",
        "                    2:'Segunda dosis'\n",
        "                    }, inplace=True)"
      ],
      "execution_count": null,
      "outputs": []
    },
    {
      "cell_type": "code",
      "metadata": {
        "id": "JOngg5vxYuiD"
      },
      "source": [
        "#esto es para convertir la variable en una de texto (se unirán tablas por variables que tienen que ser compatibles)\n",
        "dfaux['id_Prov_Mun']=dfaux['id_Prov_Mun'].astype(str) \n",
        "dfaux2['cod_jur']=dfaux2['cod_jur'].astype(str) "
      ],
      "execution_count": null,
      "outputs": []
    },
    {
      "cell_type": "code",
      "metadata": {
        "id": "EotpcmfMawBz"
      },
      "source": [
        "#para obtener una nueva base mixta=que ahora tiene las regiones (y otras descripciones de municipios, para control)\n",
        "#la base original se expande con las descripciones adicionales de los municipios de BA y la región sanitaria\n",
        "df1p = pd.merge(dfvacc1, \n",
        "               dfaux, \n",
        "               on ='id_Prov_Mun', \n",
        "               how ='left')"
      ],
      "execution_count": null,
      "outputs": []
    },
    {
      "cell_type": "code",
      "metadata": {
        "id": "pI7wLO8N9vhT"
      },
      "source": [
        "#para obtener una nueva base mixta=que ahora tiene las provincias (contiene los no especidificados con carga en esa jurisdicción)\n",
        "dfcompleta = pd.merge(df1p, \n",
        "               dfaux2, \n",
        "               on ='cod_jur', \n",
        "               how ='left')"
      ],
      "execution_count": null,
      "outputs": []
    },
    {
      "cell_type": "code",
      "metadata": {
        "id": "qKdY-YW_X0P1",
        "colab": {
          "base_uri": "https://localhost:8080/"
        },
        "outputId": "7f84c29e-03b3-4748-c902-1e59f4516d5d"
      },
      "source": [
        "dfcompleta.head(3)"
      ],
      "execution_count": null,
      "outputs": [
        {
          "output_type": "execute_result",
          "data": {
            "text/html": [
              "<div>\n",
              "<style scoped>\n",
              "    .dataframe tbody tr th:only-of-type {\n",
              "        vertical-align: middle;\n",
              "    }\n",
              "\n",
              "    .dataframe tbody tr th {\n",
              "        vertical-align: top;\n",
              "    }\n",
              "\n",
              "    .dataframe thead th {\n",
              "        text-align: right;\n",
              "    }\n",
              "</style>\n",
              "<table border=\"1\" class=\"dataframe\">\n",
              "  <thead>\n",
              "    <tr style=\"text-align: right;\">\n",
              "      <th></th>\n",
              "      <th>sexo</th>\n",
              "      <th>grupo_etario</th>\n",
              "      <th>jurisdiccion_residencia</th>\n",
              "      <th>jurisdiccion_residencia_id</th>\n",
              "      <th>depto_residencia</th>\n",
              "      <th>depto_residencia_id</th>\n",
              "      <th>jurisdiccion_aplicacion</th>\n",
              "      <th>cod_jur</th>\n",
              "      <th>depto_aplicacion</th>\n",
              "      <th>id_Mun</th>\n",
              "      <th>fecha_aplicacion</th>\n",
              "      <th>vacuna</th>\n",
              "      <th>condicion_aplicacion</th>\n",
              "      <th>orden_dosis</th>\n",
              "      <th>lote_vacuna</th>\n",
              "      <th>id_Prov_Mun</th>\n",
              "      <th>Municipio_PBA</th>\n",
              "      <th>Región</th>\n",
              "      <th>AMBA</th>\n",
              "      <th>Apertura_PBA_UNGS</th>\n",
              "      <th>Apertura_PBA_UNDAV</th>\n",
              "      <th>lat,long</th>\n",
              "      <th>pob_mun_2020</th>\n",
              "      <th>pob_mun_2021</th>\n",
              "      <th>Jurisdiccion</th>\n",
              "      <th>Cod ISO 3166 alpha 2</th>\n",
              "      <th>Capital</th>\n",
              "      <th>pob_j_2020</th>\n",
              "      <th>pob_j_2021</th>\n",
              "    </tr>\n",
              "  </thead>\n",
              "  <tbody>\n",
              "    <tr>\n",
              "      <th>0</th>\n",
              "      <td>F</td>\n",
              "      <td>40-49</td>\n",
              "      <td>Buenos Aires</td>\n",
              "      <td>6</td>\n",
              "      <td>Tandil</td>\n",
              "      <td>791</td>\n",
              "      <td>Buenos Aires</td>\n",
              "      <td>6</td>\n",
              "      <td>Tandil</td>\n",
              "      <td>791</td>\n",
              "      <td>2021-03-05</td>\n",
              "      <td>Sinopharm</td>\n",
              "      <td>Estratégico</td>\n",
              "      <td>Primera dosis</td>\n",
              "      <td>2021010036</td>\n",
              "      <td>6-791</td>\n",
              "      <td>Tandil</td>\n",
              "      <td>Región VIII</td>\n",
              "      <td>Interior PBA</td>\n",
              "      <td>Interior PBA</td>\n",
              "      <td>Interior PBA</td>\n",
              "      <td>-37.3286954878065,-59.1368975553779</td>\n",
              "      <td>139300.0</td>\n",
              "      <td>140657.0</td>\n",
              "      <td>Buenos Aires</td>\n",
              "      <td>AR-B</td>\n",
              "      <td>La Plata</td>\n",
              "      <td>17541141</td>\n",
              "      <td>17709598</td>\n",
              "    </tr>\n",
              "    <tr>\n",
              "      <th>1</th>\n",
              "      <td>M</td>\n",
              "      <td>50-59</td>\n",
              "      <td>Buenos Aires</td>\n",
              "      <td>6</td>\n",
              "      <td>General Pueyrredón</td>\n",
              "      <td>357</td>\n",
              "      <td>Buenos Aires</td>\n",
              "      <td>6</td>\n",
              "      <td>General Pueyrredón</td>\n",
              "      <td>357</td>\n",
              "      <td>2021-04-05</td>\n",
              "      <td>Sputnik</td>\n",
              "      <td>Estratégico</td>\n",
              "      <td>Primera dosis</td>\n",
              "      <td>I-220321</td>\n",
              "      <td>6-357</td>\n",
              "      <td>General Pueyrredón</td>\n",
              "      <td>Región VIII</td>\n",
              "      <td>Interior PBA</td>\n",
              "      <td>Interior PBA</td>\n",
              "      <td>Interior PBA</td>\n",
              "      <td>-38.0064494389904,-57.5438377446162</td>\n",
              "      <td>656456.0</td>\n",
              "      <td>659462.0</td>\n",
              "      <td>Buenos Aires</td>\n",
              "      <td>AR-B</td>\n",
              "      <td>La Plata</td>\n",
              "      <td>17541141</td>\n",
              "      <td>17709598</td>\n",
              "    </tr>\n",
              "    <tr>\n",
              "      <th>2</th>\n",
              "      <td>M</td>\n",
              "      <td>30-39</td>\n",
              "      <td>Entre Ríos</td>\n",
              "      <td>30</td>\n",
              "      <td>La Paz</td>\n",
              "      <td>70</td>\n",
              "      <td>Entre Ríos</td>\n",
              "      <td>30</td>\n",
              "      <td>La Paz</td>\n",
              "      <td>70</td>\n",
              "      <td>2021-01-12</td>\n",
              "      <td>Sputnik</td>\n",
              "      <td>Salud</td>\n",
              "      <td>Primera dosis</td>\n",
              "      <td>486081120R</td>\n",
              "      <td>30-70</td>\n",
              "      <td>NaN</td>\n",
              "      <td>NaN</td>\n",
              "      <td>NaN</td>\n",
              "      <td>NaN</td>\n",
              "      <td>NaN</td>\n",
              "      <td>NaN</td>\n",
              "      <td>NaN</td>\n",
              "      <td>NaN</td>\n",
              "      <td>Entre Ríos</td>\n",
              "      <td>AR-E</td>\n",
              "      <td>Paraná</td>\n",
              "      <td>1385961</td>\n",
              "      <td>1398510</td>\n",
              "    </tr>\n",
              "  </tbody>\n",
              "</table>\n",
              "</div>"
            ],
            "text/plain": [
              "  sexo grupo_etario jurisdiccion_residencia  ...   Capital pob_j_2020  pob_j_2021\n",
              "0    F        40-49            Buenos Aires  ...  La Plata   17541141    17709598\n",
              "1    M        50-59            Buenos Aires  ...  La Plata   17541141    17709598\n",
              "2    M        30-39              Entre Ríos  ...    Paraná    1385961     1398510\n",
              "\n",
              "[3 rows x 29 columns]"
            ]
          },
          "metadata": {
            "tags": []
          },
          "execution_count": 20
        }
      ]
    },
    {
      "cell_type": "code",
      "metadata": {
        "id": "OV6oxoeRTgA-"
      },
      "source": [
        "#creo las variables para contar primeras y segundas dosis\n",
        "dfcompleta['1er dosis']=np.where(dfcompleta['orden_dosis']=='Primera dosis',1,0)\n",
        "dfcompleta['2da dosis']=np.where(dfcompleta['orden_dosis']=='Segunda dosis',1,0)"
      ],
      "execution_count": null,
      "outputs": []
    },
    {
      "cell_type": "markdown",
      "metadata": {
        "id": "2MeKeNEgn2gC"
      },
      "source": [
        "### Elaboración de tablas resumen"
      ]
    },
    {
      "cell_type": "code",
      "metadata": {
        "id": "x0sd3hT9hPzI"
      },
      "source": [
        "#tabla resumen final ordenada por fecha \n",
        "dfcompleta['fecha_aplicacion']=dfcompleta['fecha_aplicacion'].astype(str) #esto es para convertir la variable de fecha a una variable de texto\n",
        "df1=dfcompleta.groupby(['fecha_aplicacion','condicion_aplicacion','Jurisdiccion','Cod ISO 3166 alpha 2','orden_dosis'],dropna=False).agg(\n",
        "    aplicaciones=('orden_dosis','count'),\n",
        ")"
      ],
      "execution_count": null,
      "outputs": []
    },
    {
      "cell_type": "code",
      "metadata": {
        "id": "YwhuSAHI0R72"
      },
      "source": [
        "#tabla resumen final por provincia, población y recuento de casos confirmados y fallecidos\n",
        "df2=dfcompleta.groupby(['grupo_etario','vacuna','condicion_aplicacion','Jurisdiccion','Cod ISO 3166 alpha 2','pob_j_2021','Municipio_PBA','pob_mun_2021',\t'Región',\t'AMBA','lat,long','orden_dosis'],dropna=False).agg(\n",
        "    Primeras_dosis=('1er dosis','sum'),\n",
        "    Segundas_dosis=('2da dosis','sum'),\n",
        ")"
      ],
      "execution_count": null,
      "outputs": []
    },
    {
      "cell_type": "markdown",
      "metadata": {
        "id": "d0HYi02h5l-S"
      },
      "source": [
        "## **Guardado / descarga**"
      ]
    },
    {
      "cell_type": "code",
      "metadata": {
        "id": "ovVB7kgjoHV3"
      },
      "source": [
        "#si se guarda en ubicación en drive como csv ('montar' e indicar ubicación en propio drive)\n",
        "#esta es el resumen ordenado por fecha (verificar**)\n",
        "df1.to_csv('/content/drive/MyDrive/Proyectos/COVID/vaccinedates.csv',header = True,index=True,sep=\",\")\n",
        "df2.to_csv('/content/drive/MyDrive/Proyectos/COVID/vaccinedetail.csv',header = True,index=True,sep=\",\")\n"
      ],
      "execution_count": null,
      "outputs": []
    }
  ]
}