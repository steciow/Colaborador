{
  "nbformat": 4,
  "nbformat_minor": 0,
  "metadata": {
    "colab": {
      "name": "Industria en Provincia de Buenos Aires.ipynb",
      "provenance": [],
      "collapsed_sections": [
        "JPQ60QwNiBQG",
        "2rX_aA3eiHgw",
        "B8uc_oq8sD0o",
        "U32wpapNakj9",
        "DUUEhTBOMwKH",
        "2MeKeNEgn2gC",
        "d0HYi02h5l-S",
        "MXLwnT8_iRCl",
        "l8LEcrKn2bSA",
        "rOYpQslrslkY"
      ],
      "toc_visible": true,
      "mount_file_id": "1g7Xnh9scC59kppzCOYjJUkywICFgL9DU",
      "authorship_tag": "ABX9TyNJEvVREUOHy1dCNd025Ji9",
      "include_colab_link": true
    },
    "kernelspec": {
      "name": "python3",
      "display_name": "Python 3"
    }
  },
  "cells": [
    {
      "cell_type": "markdown",
      "metadata": {
        "id": "view-in-github",
        "colab_type": "text"
      },
      "source": [
        "<a href=\"https://colab.research.google.com/github/steciow/Colaborador/blob/main/Industria_en_Provincia_de_Buenos_Aires.ipynb\" target=\"_parent\"><img src=\"https://colab.research.google.com/assets/colab-badge.svg\" alt=\"Open In Colab\"/></a>"
      ]
    },
    {
      "cell_type": "markdown",
      "metadata": {
        "id": "rpw433tt8hfD"
      },
      "source": [
        "# **PROCESAMIENTO DE BASE SOBRE INDUSTRIA**\n",
        "**PARTE DE PROYECTO DE TESIS**\n",
        "\n",
        "Fuente:\n",
        "\n",
        "https://catalogo.datos.gba.gob.ar/dataset/empresas"
      ]
    },
    {
      "cell_type": "markdown",
      "metadata": {
        "id": "JPQ60QwNiBQG"
      },
      "source": [
        "## **Importar librerías**"
      ]
    },
    {
      "cell_type": "code",
      "metadata": {
        "id": "WmvWzpxcd7rk"
      },
      "source": [
        "# importamos de librerías que se utilizarán para trabajar las tablas y le otorgamos un alias\n",
        "import pandas as pd\n",
        "import numpy as np\n",
        "from google.colab import files\n",
        "#import matplotlib.pyplot as plt\n",
        "#import plotly.express as px"
      ],
      "execution_count": null,
      "outputs": []
    },
    {
      "cell_type": "code",
      "metadata": {
        "id": "3uQ6AlnwNgJ3"
      },
      "source": [
        "#para ver mejor el contenido de las tablas, indico el máximo de filas a visualizar en 400...\n",
        "pd.set_option('display.max_rows',800)"
      ],
      "execution_count": null,
      "outputs": []
    },
    {
      "cell_type": "markdown",
      "metadata": {
        "id": "2rX_aA3eiHgw"
      },
      "source": [
        "## **Levantar bases**"
      ]
    },
    {
      "cell_type": "markdown",
      "metadata": {
        "id": "XfPuHevvYO7o"
      },
      "source": [
        "### **Base**"
      ]
    },
    {
      "cell_type": "code",
      "metadata": {
        "id": "7x-JK2PedlHr"
      },
      "source": [
        "#levantar desde enlace web\n",
        "url = 'https://raw.githubusercontent.com/steciow/IndustriaPBA/main/agrupamientos-industriales.csv'\n",
        "df = pd.read_csv(url)"
      ],
      "execution_count": null,
      "outputs": []
    },
    {
      "cell_type": "markdown",
      "metadata": {
        "id": "5MExPrmUYiCG"
      },
      "source": [
        "### **Bases auxiliares (clasificación y descripciones de distritos)**"
      ]
    },
    {
      "cell_type": "markdown",
      "metadata": {
        "id": "B8uc_oq8sD0o"
      },
      "source": [
        "## **Explorando la base**"
      ]
    },
    {
      "cell_type": "code",
      "metadata": {
        "colab": {
          "base_uri": "https://localhost:8080/"
        },
        "id": "11lNaOd0H3lI",
        "outputId": "a359d99d-ced6-484f-ab6f-e33fcc8f6359"
      },
      "source": [
        "#primera exploración de la base: tamaño (cantidad de filas, cantidad de columnas)\n",
        "#tomar nota del total de registros que eso sirve para controlar el resultado de las tablas\n",
        "df.shape"
      ],
      "execution_count": null,
      "outputs": [
        {
          "output_type": "execute_result",
          "data": {
            "text/plain": [
              "(84, 31)"
            ]
          },
          "metadata": {
            "tags": []
          },
          "execution_count": 9
        }
      ]
    },
    {
      "cell_type": "code",
      "metadata": {
        "colab": {
          "base_uri": "https://localhost:8080/",
          "height": 513
        },
        "id": "lZW2IGVYqBiN",
        "outputId": "30933508-8c2b-4528-bb86-3b5f46c7c7da"
      },
      "source": [
        "#para ver el encabezado (y primeras 5 filas)\n",
        "df.head(5)"
      ],
      "execution_count": null,
      "outputs": [
        {
          "output_type": "execute_result",
          "data": {
            "text/html": [
              "<div>\n",
              "<style scoped>\n",
              "    .dataframe tbody tr th:only-of-type {\n",
              "        vertical-align: middle;\n",
              "    }\n",
              "\n",
              "    .dataframe tbody tr th {\n",
              "        vertical-align: top;\n",
              "    }\n",
              "\n",
              "    .dataframe thead th {\n",
              "        text-align: right;\n",
              "    }\n",
              "</style>\n",
              "<table border=\"1\" class=\"dataframe\">\n",
              "  <thead>\n",
              "    <tr style=\"text-align: right;\">\n",
              "      <th></th>\n",
              "      <th>municipio_id</th>\n",
              "      <th>municipio_nombre</th>\n",
              "      <th>localidad</th>\n",
              "      <th>nombre_agrupamiento_promotor</th>\n",
              "      <th>tipologia</th>\n",
              "      <th>iniciativa</th>\n",
              "      <th>tipo_segun_origen</th>\n",
              "      <th>numero_decreto</th>\n",
              "      <th>numero_decreto_de_ampliacion</th>\n",
              "      <th>ubicacion</th>\n",
              "      <th>latitud</th>\n",
              "      <th>longitud</th>\n",
              "      <th>nombre_de_contacto</th>\n",
              "      <th>institucion</th>\n",
              "      <th>telefono</th>\n",
              "      <th>mail_1</th>\n",
              "      <th>mail_2</th>\n",
              "      <th>superficie_hectareas</th>\n",
              "      <th>cantidad_lotes_parcelas</th>\n",
              "      <th>lotes_parcelas_disponibles</th>\n",
              "      <th>reglamento_interno</th>\n",
              "      <th>area_de_reserva</th>\n",
              "      <th>infraestructura_basica</th>\n",
              "      <th>servicio_ adicionales</th>\n",
              "      <th>centro_de_capacitación_en_el_agrupamiento</th>\n",
              "      <th>vinculación_con_un_centro_de_formación_externo</th>\n",
              "      <th>numero_empresas</th>\n",
              "      <th>numero_empleados_estimado</th>\n",
              "      <th>seccion_electoral</th>\n",
              "      <th>interior_conurbano</th>\n",
              "      <th>Unnamed: 30</th>\n",
              "    </tr>\n",
              "  </thead>\n",
              "  <tbody>\n",
              "    <tr>\n",
              "      <th>0</th>\n",
              "      <td>60007.0</td>\n",
              "      <td>Adolfo Alsina</td>\n",
              "      <td>Carhué</td>\n",
              "      <td>SIP Adolfo Alsina</td>\n",
              "      <td>Sector industrial</td>\n",
              "      <td>Oficial</td>\n",
              "      <td>Originario</td>\n",
              "      <td>8528/87</td>\n",
              "      <td>N/C</td>\n",
              "      <td>Ruta Nacional Nº 33 y Ruta Prov. Nº 60</td>\n",
              "      <td>-37.168270</td>\n",
              "      <td>-62.703989</td>\n",
              "      <td>Sergio Hernán Suarez</td>\n",
              "      <td>Secretaría de la Producción</td>\n",
              "      <td>(02936) 430-572</td>\n",
              "      <td>adolfoalsina@gmail.com</td>\n",
              "      <td>s/d</td>\n",
              "      <td>15.0</td>\n",
              "      <td>27</td>\n",
              "      <td>Si</td>\n",
              "      <td>No</td>\n",
              "      <td>Si</td>\n",
              "      <td>Consolidado de calles, energía eléctrica, cerc...</td>\n",
              "      <td>Seguridad privada, control de rondines</td>\n",
              "      <td>No</td>\n",
              "      <td>Si</td>\n",
              "      <td>3</td>\n",
              "      <td>100</td>\n",
              "      <td>6ta. sección</td>\n",
              "      <td>Interior</td>\n",
              "      <td>NaN</td>\n",
              "    </tr>\n",
              "    <tr>\n",
              "      <th>1</th>\n",
              "      <td>60021.0</td>\n",
              "      <td>Alberti</td>\n",
              "      <td>Alberti</td>\n",
              "      <td>SIP Alberti 1</td>\n",
              "      <td>Sector industrial</td>\n",
              "      <td>Oficial</td>\n",
              "      <td>Originario</td>\n",
              "      <td>5893/86</td>\n",
              "      <td>N/C</td>\n",
              "      <td>Av. De Los Inmigrantes N° 60</td>\n",
              "      <td>-35.044610</td>\n",
              "      <td>-60.276165</td>\n",
              "      <td>Sr. Zoia</td>\n",
              "      <td>Sec. de Producción</td>\n",
              "      <td>(02346) 47-0215 / 47-1821</td>\n",
              "      <td>gran.pipi@hotmail.com</td>\n",
              "      <td>s/d</td>\n",
              "      <td>11.5</td>\n",
              "      <td>s/d</td>\n",
              "      <td>s/d</td>\n",
              "      <td>s/d</td>\n",
              "      <td>s/d</td>\n",
              "      <td>s/d</td>\n",
              "      <td>s/d</td>\n",
              "      <td>s/d</td>\n",
              "      <td>s/d</td>\n",
              "      <td>10</td>\n",
              "      <td>300</td>\n",
              "      <td>4ta. sección</td>\n",
              "      <td>Interior</td>\n",
              "      <td>NaN</td>\n",
              "    </tr>\n",
              "    <tr>\n",
              "      <th>2</th>\n",
              "      <td>60028.0</td>\n",
              "      <td>Almirante Brown</td>\n",
              "      <td>Burzaco</td>\n",
              "      <td>SIP Almirante Brown</td>\n",
              "      <td>Sector industrial</td>\n",
              "      <td>Mixto</td>\n",
              "      <td>Parcelamiento preexistente</td>\n",
              "      <td>4705/93</td>\n",
              "      <td>1002/15</td>\n",
              "      <td>Av. Hipólito Yrigoyen y Ruta Provincial Nº 4</td>\n",
              "      <td>-34.846915</td>\n",
              "      <td>-58.410377</td>\n",
              "      <td>Dra. Ariadna Kerwich - Javier Gómez</td>\n",
              "      <td>Comisión Mixta</td>\n",
              "      <td>(011) 4238-7283</td>\n",
              "      <td>gabriela786@homail.com</td>\n",
              "      <td>info@parqueindustrialburzaco.com</td>\n",
              "      <td>458.0</td>\n",
              "      <td>s/d</td>\n",
              "      <td>Si</td>\n",
              "      <td>Si</td>\n",
              "      <td>s/d</td>\n",
              "      <td>Pavimento, consolidado de calles,energía, desa...</td>\n",
              "      <td>Seguridad privada con 43 cámaras. 4 entidades ...</td>\n",
              "      <td>s/d</td>\n",
              "      <td>s/d</td>\n",
              "      <td>240</td>\n",
              "      <td>20000</td>\n",
              "      <td>3ra. sección</td>\n",
              "      <td>Conurbano</td>\n",
              "      <td>NaN</td>\n",
              "    </tr>\n",
              "    <tr>\n",
              "      <th>3</th>\n",
              "      <td>60077.0</td>\n",
              "      <td>Arrecifes</td>\n",
              "      <td>Arrecifes</td>\n",
              "      <td>SIP Arrecifes</td>\n",
              "      <td>Sector industrial</td>\n",
              "      <td>Oficial</td>\n",
              "      <td>Originario</td>\n",
              "      <td>392/15</td>\n",
              "      <td>N/C</td>\n",
              "      <td>Ruta Nac. 8 Km 179.5</td>\n",
              "      <td>-34.024556</td>\n",
              "      <td>-60.135054</td>\n",
              "      <td>Jorge Luis Filigheras</td>\n",
              "      <td>Dirección de Producción</td>\n",
              "      <td>(02478) 454822 int. 125</td>\n",
              "      <td>dirprod@arrecifes.mun.gba.gob.ar</td>\n",
              "      <td>municipalidadarrecifes@gmail.com</td>\n",
              "      <td>32.0</td>\n",
              "      <td>29</td>\n",
              "      <td>s/d</td>\n",
              "      <td>SI</td>\n",
              "      <td>Si</td>\n",
              "      <td>Pavimento, consolidado de calles, energía, cer...</td>\n",
              "      <td>No</td>\n",
              "      <td>No</td>\n",
              "      <td>Si</td>\n",
              "      <td>15</td>\n",
              "      <td>600</td>\n",
              "      <td>2da. sección</td>\n",
              "      <td>Interior</td>\n",
              "      <td>NaN</td>\n",
              "    </tr>\n",
              "    <tr>\n",
              "      <th>4</th>\n",
              "      <td>60035.0</td>\n",
              "      <td>Avellaneda</td>\n",
              "      <td>Sarandí, Villa Luján</td>\n",
              "      <td>PI Villa Luján</td>\n",
              "      <td>Parque industrial</td>\n",
              "      <td>Mixto</td>\n",
              "      <td>Parcelamiento preexistente</td>\n",
              "      <td>1781/15</td>\n",
              "      <td>N/C</td>\n",
              "      <td>Calle Pitágoras esq. V. de Lujan</td>\n",
              "      <td>-34.700298</td>\n",
              "      <td>-58.358576</td>\n",
              "      <td>Humberto Borsani</td>\n",
              "      <td>Sec. de Producción</td>\n",
              "      <td>(011) 5227-7000 /( 011) 2078-2000</td>\n",
              "      <td>secretariadeproduccion@yahoo.com.ar</td>\n",
              "      <td>ceremonial@avellaneda-ba.gov.ar</td>\n",
              "      <td>32.0</td>\n",
              "      <td>38</td>\n",
              "      <td>Si</td>\n",
              "      <td>Si</td>\n",
              "      <td>s/d</td>\n",
              "      <td>Consolidado de calles, energía, cerco perimetr...</td>\n",
              "      <td>No</td>\n",
              "      <td>s/d</td>\n",
              "      <td>s/d</td>\n",
              "      <td>30</td>\n",
              "      <td>1400</td>\n",
              "      <td>3ra. sección</td>\n",
              "      <td>Conurbano</td>\n",
              "      <td>NaN</td>\n",
              "    </tr>\n",
              "  </tbody>\n",
              "</table>\n",
              "</div>"
            ],
            "text/plain": [
              "   municipio_id municipio_nombre  ... interior_conurbano Unnamed: 30\n",
              "0       60007.0    Adolfo Alsina  ...           Interior         NaN\n",
              "1       60021.0          Alberti  ...           Interior         NaN\n",
              "2       60028.0  Almirante Brown  ...          Conurbano         NaN\n",
              "3       60077.0        Arrecifes  ...           Interior         NaN\n",
              "4       60035.0       Avellaneda  ...          Conurbano         NaN\n",
              "\n",
              "[5 rows x 31 columns]"
            ]
          },
          "metadata": {
            "tags": []
          },
          "execution_count": 10
        }
      ]
    },
    {
      "cell_type": "code",
      "metadata": {
        "id": "hKjEqpLG4M5n"
      },
      "source": [
        "df['latitud']=df['latitud'].astype(str)\n",
        "df['longitud']=df['longitud'].astype(str)\n",
        "df['lat,long']=df['latitud']+\",\"+df['longitud']"
      ],
      "execution_count": null,
      "outputs": []
    },
    {
      "cell_type": "code",
      "metadata": {
        "colab": {
          "base_uri": "https://localhost:8080/",
          "height": 513
        },
        "id": "eoy__zHK4n37",
        "outputId": "b060e8eb-cd00-488f-a0bc-80001a8c9bf8"
      },
      "source": [
        "df.head(5)"
      ],
      "execution_count": null,
      "outputs": [
        {
          "output_type": "execute_result",
          "data": {
            "text/html": [
              "<div>\n",
              "<style scoped>\n",
              "    .dataframe tbody tr th:only-of-type {\n",
              "        vertical-align: middle;\n",
              "    }\n",
              "\n",
              "    .dataframe tbody tr th {\n",
              "        vertical-align: top;\n",
              "    }\n",
              "\n",
              "    .dataframe thead th {\n",
              "        text-align: right;\n",
              "    }\n",
              "</style>\n",
              "<table border=\"1\" class=\"dataframe\">\n",
              "  <thead>\n",
              "    <tr style=\"text-align: right;\">\n",
              "      <th></th>\n",
              "      <th>municipio_id</th>\n",
              "      <th>municipio_nombre</th>\n",
              "      <th>localidad</th>\n",
              "      <th>nombre_agrupamiento_promotor</th>\n",
              "      <th>tipologia</th>\n",
              "      <th>iniciativa</th>\n",
              "      <th>tipo_segun_origen</th>\n",
              "      <th>numero_decreto</th>\n",
              "      <th>numero_decreto_de_ampliacion</th>\n",
              "      <th>ubicacion</th>\n",
              "      <th>latitud</th>\n",
              "      <th>longitud</th>\n",
              "      <th>nombre_de_contacto</th>\n",
              "      <th>institucion</th>\n",
              "      <th>telefono</th>\n",
              "      <th>mail_1</th>\n",
              "      <th>mail_2</th>\n",
              "      <th>superficie_hectareas</th>\n",
              "      <th>cantidad_lotes_parcelas</th>\n",
              "      <th>lotes_parcelas_disponibles</th>\n",
              "      <th>reglamento_interno</th>\n",
              "      <th>area_de_reserva</th>\n",
              "      <th>infraestructura_basica</th>\n",
              "      <th>servicio_ adicionales</th>\n",
              "      <th>centro_de_capacitación_en_el_agrupamiento</th>\n",
              "      <th>vinculación_con_un_centro_de_formación_externo</th>\n",
              "      <th>numero_empresas</th>\n",
              "      <th>numero_empleados_estimado</th>\n",
              "      <th>seccion_electoral</th>\n",
              "      <th>interior_conurbano</th>\n",
              "      <th>Unnamed: 30</th>\n",
              "      <th>lat,long</th>\n",
              "    </tr>\n",
              "  </thead>\n",
              "  <tbody>\n",
              "    <tr>\n",
              "      <th>0</th>\n",
              "      <td>60007.0</td>\n",
              "      <td>Adolfo Alsina</td>\n",
              "      <td>Carhué</td>\n",
              "      <td>SIP Adolfo Alsina</td>\n",
              "      <td>Sector industrial</td>\n",
              "      <td>Oficial</td>\n",
              "      <td>Originario</td>\n",
              "      <td>8528/87</td>\n",
              "      <td>N/C</td>\n",
              "      <td>Ruta Nacional Nº 33 y Ruta Prov. Nº 60</td>\n",
              "      <td>-37.16827</td>\n",
              "      <td>-62.703989</td>\n",
              "      <td>Sergio Hernán Suarez</td>\n",
              "      <td>Secretaría de la Producción</td>\n",
              "      <td>(02936) 430-572</td>\n",
              "      <td>adolfoalsina@gmail.com</td>\n",
              "      <td>s/d</td>\n",
              "      <td>15.0</td>\n",
              "      <td>27</td>\n",
              "      <td>Si</td>\n",
              "      <td>No</td>\n",
              "      <td>Si</td>\n",
              "      <td>Consolidado de calles, energía eléctrica, cerc...</td>\n",
              "      <td>Seguridad privada, control de rondines</td>\n",
              "      <td>No</td>\n",
              "      <td>Si</td>\n",
              "      <td>3</td>\n",
              "      <td>100</td>\n",
              "      <td>6ta. sección</td>\n",
              "      <td>Interior</td>\n",
              "      <td>NaN</td>\n",
              "      <td>-37.16827,-62.703989</td>\n",
              "    </tr>\n",
              "    <tr>\n",
              "      <th>1</th>\n",
              "      <td>60021.0</td>\n",
              "      <td>Alberti</td>\n",
              "      <td>Alberti</td>\n",
              "      <td>SIP Alberti 1</td>\n",
              "      <td>Sector industrial</td>\n",
              "      <td>Oficial</td>\n",
              "      <td>Originario</td>\n",
              "      <td>5893/86</td>\n",
              "      <td>N/C</td>\n",
              "      <td>Av. De Los Inmigrantes N° 60</td>\n",
              "      <td>-35.04461</td>\n",
              "      <td>-60.276165</td>\n",
              "      <td>Sr. Zoia</td>\n",
              "      <td>Sec. de Producción</td>\n",
              "      <td>(02346) 47-0215 / 47-1821</td>\n",
              "      <td>gran.pipi@hotmail.com</td>\n",
              "      <td>s/d</td>\n",
              "      <td>11.5</td>\n",
              "      <td>s/d</td>\n",
              "      <td>s/d</td>\n",
              "      <td>s/d</td>\n",
              "      <td>s/d</td>\n",
              "      <td>s/d</td>\n",
              "      <td>s/d</td>\n",
              "      <td>s/d</td>\n",
              "      <td>s/d</td>\n",
              "      <td>10</td>\n",
              "      <td>300</td>\n",
              "      <td>4ta. sección</td>\n",
              "      <td>Interior</td>\n",
              "      <td>NaN</td>\n",
              "      <td>-35.04461,-60.276165</td>\n",
              "    </tr>\n",
              "    <tr>\n",
              "      <th>2</th>\n",
              "      <td>60028.0</td>\n",
              "      <td>Almirante Brown</td>\n",
              "      <td>Burzaco</td>\n",
              "      <td>SIP Almirante Brown</td>\n",
              "      <td>Sector industrial</td>\n",
              "      <td>Mixto</td>\n",
              "      <td>Parcelamiento preexistente</td>\n",
              "      <td>4705/93</td>\n",
              "      <td>1002/15</td>\n",
              "      <td>Av. Hipólito Yrigoyen y Ruta Provincial Nº 4</td>\n",
              "      <td>-34.846915</td>\n",
              "      <td>-58.410377000000004</td>\n",
              "      <td>Dra. Ariadna Kerwich - Javier Gómez</td>\n",
              "      <td>Comisión Mixta</td>\n",
              "      <td>(011) 4238-7283</td>\n",
              "      <td>gabriela786@homail.com</td>\n",
              "      <td>info@parqueindustrialburzaco.com</td>\n",
              "      <td>458.0</td>\n",
              "      <td>s/d</td>\n",
              "      <td>Si</td>\n",
              "      <td>Si</td>\n",
              "      <td>s/d</td>\n",
              "      <td>Pavimento, consolidado de calles,energía, desa...</td>\n",
              "      <td>Seguridad privada con 43 cámaras. 4 entidades ...</td>\n",
              "      <td>s/d</td>\n",
              "      <td>s/d</td>\n",
              "      <td>240</td>\n",
              "      <td>20000</td>\n",
              "      <td>3ra. sección</td>\n",
              "      <td>Conurbano</td>\n",
              "      <td>NaN</td>\n",
              "      <td>-34.846915,-58.410377000000004</td>\n",
              "    </tr>\n",
              "    <tr>\n",
              "      <th>3</th>\n",
              "      <td>60077.0</td>\n",
              "      <td>Arrecifes</td>\n",
              "      <td>Arrecifes</td>\n",
              "      <td>SIP Arrecifes</td>\n",
              "      <td>Sector industrial</td>\n",
              "      <td>Oficial</td>\n",
              "      <td>Originario</td>\n",
              "      <td>392/15</td>\n",
              "      <td>N/C</td>\n",
              "      <td>Ruta Nac. 8 Km 179.5</td>\n",
              "      <td>-34.024556</td>\n",
              "      <td>-60.135054000000004</td>\n",
              "      <td>Jorge Luis Filigheras</td>\n",
              "      <td>Dirección de Producción</td>\n",
              "      <td>(02478) 454822 int. 125</td>\n",
              "      <td>dirprod@arrecifes.mun.gba.gob.ar</td>\n",
              "      <td>municipalidadarrecifes@gmail.com</td>\n",
              "      <td>32.0</td>\n",
              "      <td>29</td>\n",
              "      <td>s/d</td>\n",
              "      <td>SI</td>\n",
              "      <td>Si</td>\n",
              "      <td>Pavimento, consolidado de calles, energía, cer...</td>\n",
              "      <td>No</td>\n",
              "      <td>No</td>\n",
              "      <td>Si</td>\n",
              "      <td>15</td>\n",
              "      <td>600</td>\n",
              "      <td>2da. sección</td>\n",
              "      <td>Interior</td>\n",
              "      <td>NaN</td>\n",
              "      <td>-34.024556,-60.135054000000004</td>\n",
              "    </tr>\n",
              "    <tr>\n",
              "      <th>4</th>\n",
              "      <td>60035.0</td>\n",
              "      <td>Avellaneda</td>\n",
              "      <td>Sarandí, Villa Luján</td>\n",
              "      <td>PI Villa Luján</td>\n",
              "      <td>Parque industrial</td>\n",
              "      <td>Mixto</td>\n",
              "      <td>Parcelamiento preexistente</td>\n",
              "      <td>1781/15</td>\n",
              "      <td>N/C</td>\n",
              "      <td>Calle Pitágoras esq. V. de Lujan</td>\n",
              "      <td>-34.700298</td>\n",
              "      <td>-58.358576</td>\n",
              "      <td>Humberto Borsani</td>\n",
              "      <td>Sec. de Producción</td>\n",
              "      <td>(011) 5227-7000 /( 011) 2078-2000</td>\n",
              "      <td>secretariadeproduccion@yahoo.com.ar</td>\n",
              "      <td>ceremonial@avellaneda-ba.gov.ar</td>\n",
              "      <td>32.0</td>\n",
              "      <td>38</td>\n",
              "      <td>Si</td>\n",
              "      <td>Si</td>\n",
              "      <td>s/d</td>\n",
              "      <td>Consolidado de calles, energía, cerco perimetr...</td>\n",
              "      <td>No</td>\n",
              "      <td>s/d</td>\n",
              "      <td>s/d</td>\n",
              "      <td>30</td>\n",
              "      <td>1400</td>\n",
              "      <td>3ra. sección</td>\n",
              "      <td>Conurbano</td>\n",
              "      <td>NaN</td>\n",
              "      <td>-34.700298,-58.358576</td>\n",
              "    </tr>\n",
              "  </tbody>\n",
              "</table>\n",
              "</div>"
            ],
            "text/plain": [
              "   municipio_id municipio_nombre  ... Unnamed: 30                        lat,long\n",
              "0       60007.0    Adolfo Alsina  ...         NaN            -37.16827,-62.703989\n",
              "1       60021.0          Alberti  ...         NaN            -35.04461,-60.276165\n",
              "2       60028.0  Almirante Brown  ...         NaN  -34.846915,-58.410377000000004\n",
              "3       60077.0        Arrecifes  ...         NaN  -34.024556,-60.135054000000004\n",
              "4       60035.0       Avellaneda  ...         NaN           -34.700298,-58.358576\n",
              "\n",
              "[5 rows x 32 columns]"
            ]
          },
          "metadata": {
            "tags": []
          },
          "execution_count": 14
        }
      ]
    },
    {
      "cell_type": "markdown",
      "metadata": {
        "id": "VOE7fW43fZLi"
      },
      "source": [
        "## **Elaboración de tablas**"
      ]
    },
    {
      "cell_type": "markdown",
      "metadata": {
        "id": "bPMBwY6T6-2H"
      },
      "source": [
        "###Selección de variables que se usarán"
      ]
    },
    {
      "cell_type": "markdown",
      "metadata": {
        "id": "7pApXXJyerPk"
      },
      "source": [
        "###Eliminación de variables que no se usarán"
      ]
    },
    {
      "cell_type": "markdown",
      "metadata": {
        "id": "p_roTqfSUcPh"
      },
      "source": [
        "###Normalización"
      ]
    },
    {
      "cell_type": "markdown",
      "metadata": {
        "id": "d0HYi02h5l-S"
      },
      "source": [
        "## **Guardado / descarga**"
      ]
    },
    {
      "cell_type": "code",
      "metadata": {
        "id": "ovVB7kgjoHV3"
      },
      "source": [
        "#si se guarda en ubicación en drive como csv ('montar' e indicar ubicación en propio drive)\n",
        "#esta es el resumen ordenado por fecha (verificar**)\n",
        "df.to_csv('/content/drive/MyDrive/Proyectos/Tesis/tablaindustrias.csv',header = True,index=False,sep=\",\",encoding='utf-8-sig')"
      ],
      "execution_count": null,
      "outputs": []
    }
  ]
}